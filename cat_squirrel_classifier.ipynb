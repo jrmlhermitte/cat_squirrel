{
 "cells": [
  {
   "cell_type": "code",
   "execution_count": 1,
   "metadata": {
    "gradient": {}
   },
   "outputs": [],
   "source": [
    "from fastai.learner import load_learner\n",
    "from pathlib import Path\n",
    "\n",
    "import ipywidgets as widgets\n",
    "from fastai.vision.core import PILImage"
   ]
  },
  {
   "cell_type": "code",
   "execution_count": 7,
   "metadata": {},
   "outputs": [
    {
     "data": {
      "text/html": [],
      "text/plain": [
       "<IPython.core.display.HTML object>"
      ]
     },
     "metadata": {},
     "output_type": "display_data"
    }
   ],
   "source": [
    "# Model setup\n",
    "## The model\n",
    "path = Path()\n",
    "learn_inf = load_learner(path / 'cat_squirrel_2021.04.18.pkl')\n",
    "\n",
    "    \n",
    "\n",
    "# Setup widgets\n",
    "## image display widget\n",
    "out_pl = widgets.Output()\n",
    "out_pl.clear_output()\n",
    "\n",
    "## upload button\n",
    "btn_upload = widgets.FileUpload()\n",
    "\n",
    "## the run button\n",
    "btn_run = widgets.Button(description='Classify')\n",
    "def on_click_classify(change):\n",
    "    img = PILImage.create(btn_upload.data[-1])\n",
    "    out_pl.clear_output()\n",
    "    with out_pl: display(img.to_thumb(128,128))\n",
    "    pred,pred_idx,probs = learn_inf.predict(img)\n",
    "    lbl_pred.value = f'Prediction: {pred}; Probability: {probs[pred_idx]:.04f}'\n",
    "\n",
    "btn_run.on_click(on_click_classify)\n",
    "\n",
    "# Prediction label\n",
    "lbl_pred = widgets.Label()\n",
    "lbl_pred.value = f'Prediction: ; Probability: '\n",
    "\n",
    "\n",
    "# Load a sample image\n",
    "img = PILImage.create(Path() / 'squirrel.jpeg')\n",
    "with out_pl: display(img.to_thumb(128, 128))\n",
    "pred,pred_idx,probs = learn_inf.predict(img)\n",
    "lbl_pred.value = f'Prediction: {pred}; Probability: {probs[pred_idx]:.04f}'"
   ]
  },
  {
   "cell_type": "code",
   "execution_count": 8,
   "metadata": {
    "gradient": {}
   },
   "outputs": [
    {
     "data": {
      "application/vnd.jupyter.widget-view+json": {
       "model_id": "812bc3670cd540789d48f3198e90dba1",
       "version_major": 2,
       "version_minor": 0
      },
      "text/plain": [
       "VBox(children=(Label(value='Select your animal!'), FileUpload(value={}, description='Upload'), Button(descript…"
      ]
     },
     "metadata": {},
     "output_type": "display_data"
    }
   ],
   "source": [
    "# The full widget\n",
    "widgets.VBox([\n",
    "    widgets.Label('Select your animal!'), \n",
    "    btn_upload,\n",
    "    btn_run,\n",
    "    out_pl,\n",
    "    lbl_pred])"
   ]
  },
  {
   "cell_type": "code",
   "execution_count": null,
   "metadata": {},
   "outputs": [],
   "source": []
  }
 ],
 "metadata": {
  "kernelspec": {
   "display_name": "Python 3",
   "language": "python",
   "name": "python3"
  },
  "language_info": {
   "codemirror_mode": {
    "name": "ipython",
    "version": 3
   },
   "file_extension": ".py",
   "mimetype": "text/x-python",
   "name": "python",
   "nbconvert_exporter": "python",
   "pygments_lexer": "ipython3",
   "version": "3.8.7"
  }
 },
 "nbformat": 4,
 "nbformat_minor": 4
}
